{
 "cells": [
  {
   "cell_type": "code",
   "execution_count": null,
   "id": "f0b6af56",
   "metadata": {},
   "outputs": [],
   "source": [
    "# Label,Geometry,Maxsize,Minsize and Frame in python tkinter GUI."
   ]
  },
  {
   "cell_type": "code",
   "execution_count": 3,
   "id": "ca80360e",
   "metadata": {},
   "outputs": [],
   "source": [
    "from tkinter import*\n",
    "root=Tk()\n",
    "root.geometry(\"644x434\")\n",
    "root.minsize(500,200)\n",
    "root.maxsize(1200,600)\n",
    "f=Frame(root,bg='red',borderwidth=6,relief=SUNKEN)\n",
    "f.pack(side=RIGHT)\n",
    "sh=Label(f,text=\"vaishnavi is cute\")\n",
    "sh.pack()\n",
    "root.mainloop()"
   ]
  },
  {
   "cell_type": "code",
   "execution_count": null,
   "id": "36a0f179",
   "metadata": {},
   "outputs": [],
   "source": [
    "# packing button in tkinter"
   ]
  },
  {
   "cell_type": "code",
   "execution_count": 2,
   "id": "27ac8d53",
   "metadata": {},
   "outputs": [],
   "source": [
    "from tkinter import*\n",
    "rt=Tk()\n",
    "rt.geometry(\"666x333\")\n",
    "rt.minsize(500,200)\n",
    "rt.maxsize(1200,600)\n",
    "f=Frame(rt,bg='pink',borderwidth=10,relief=FLAT)\n",
    "f.pack(side=TOP)\n",
    "L=Label(f,text=\"vashnavi and tanvi are sisters\",font='algerian 16 bold',pady=20)\n",
    "L.pack(padx=142)\n",
    "rt.mainloop()"
   ]
  },
  {
   "cell_type": "code",
   "execution_count": null,
   "id": "df329132",
   "metadata": {},
   "outputs": [],
   "source": [
    "# Entry widget and grid layout in Tkinter"
   ]
  },
  {
   "cell_type": "code",
   "execution_count": 1,
   "id": "1996e6a0",
   "metadata": {},
   "outputs": [],
   "source": [
    "from tkinter import*\n",
    "def getvals():\n",
    "    print(f'The value of username is {uservalue.get}')\n",
    "    print(f'The value of password is {passvalue.get}')\n",
    "root=Tk()    \n",
    "root.geometry(\"666x343\")\n",
    "user=Label(root,text='username')\n",
    "password=Label(root,text='password')\n",
    "user.grid()\n",
    "password.grid()\n",
    "uservalue=StringVar()\n",
    "passvalue=StringVar()\n",
    "userentry=Entry(root,textvariable=uservalue)\n",
    "passentry=Entry(root,textvariable=passvalue)\n",
    "userentry.grid(row=0,column=1)\n",
    "passentry.grid(row=1,column=1)\n",
    "b=Button(root,text='submit',command=getvals).grid()\n",
    "root.mainloop()"
   ]
  },
  {
   "cell_type": "code",
   "execution_count": null,
   "id": "1d8711e0",
   "metadata": {},
   "outputs": [],
   "source": [
    "# Travel from using Checkbutton and entry widget"
   ]
  },
  {
   "cell_type": "code",
   "execution_count": 10,
   "id": "7a24aa66",
   "metadata": {},
   "outputs": [
    {
     "name": "stdout",
     "output_type": "stream",
     "text": [
      "it works!\n"
     ]
    }
   ],
   "source": [
    "from tkinter import*\n",
    "root=Tk()\n",
    "def getvals():\n",
    "    print('it works!')\n",
    "root.geometry(\"666x343\")\n",
    "Label(root,text=\"welcome to sanvee Travel\",font=\"comicsms 13 bold\",pady=15).grid(row=0,column=3)\n",
    "\n",
    "# Text for our form\n",
    "name= Label(root,text=\"name\")\n",
    "phone = Label(root,text=\"phone\")\n",
    "gender=Label(root,text=\"gender\")\n",
    "emergency=Label(root,text=\"emergency\")\n",
    "paymentmode=Label(root,text=\"payment mode\")\n",
    "\n",
    "#pack text for our form\n",
    "name.grid(row=1,column=2)\n",
    "phone.grid(row=2,column=2)\n",
    "gender.grid(row=3,column=2)\n",
    "emergency.grid(row=4,column=2)\n",
    "paymentmode.grid(row=5,column=2)\n",
    "\n",
    "#Tkinder  variable for storing entries\n",
    "namevalue=StringVar()\n",
    "phonevalue=StringVar()\n",
    "gendervalue=StringVar()\n",
    "emergencyvalue=StringVar()\n",
    "paymentmodevalue=StringVar()\n",
    "foodservicevalue=IntVar()\n",
    "\n",
    "# Entries for our form\n",
    "nameentry=Entry(root,textvariable=namevalue)\n",
    "phoneentry=Entry(root,textvariable=phonevalue)\n",
    "genderentry=Entry(root,textvariable=gendervalue)\n",
    "emergencyentry=Entry(root,textvariable=emergencyvalue)\n",
    "paymententry=Entry(root,textvariable=paymentmodevalue)\n",
    "\n",
    "#packing  the Entries\n",
    "nameentry.grid(row=1,column=3)\n",
    "phoneentry.grid(row=2,column=3)\n",
    "genderentry.grid(row=3,column=3)\n",
    "emergencyentry.grid(row=4,column=3)\n",
    "paymententry.grid(row=5,column=3)\n",
    "\n",
    "# checkbox and packing it\n",
    "foodservice=Checkbutton(text=\"want to prebook your meals?\",variable=foodservicevalue)\n",
    "foodservice.grid(row=6,column=3)\n",
    "\n",
    "# button and packing it and assigning it a command\n",
    "\n",
    "Button(text=\"submit to harry Travels\",command=getvals).grid(row=7,column=3)\n",
    "\n",
    "root.mainloop()\n",
    "    \n",
    "    "
   ]
  },
  {
   "cell_type": "code",
   "execution_count": null,
   "id": "879b5819",
   "metadata": {},
   "outputs": [],
   "source": [
    "# Accepting user input in tkinter form."
   ]
  },
  {
   "cell_type": "code",
   "execution_count": 7,
   "id": "ebe95e8c",
   "metadata": {},
   "outputs": [
    {
     "name": "stdout",
     "output_type": "stream",
     "text": [
      "submitting form\n",
      "('vaishnavi akre', '7558686804', 'female', '7558686804', 'google pay', 1)\n",
      "submitting form\n",
      "('vaishnavi akre', '7558686804', 'female', '7558686804', 'google pay', 1)\n",
      "submitting form\n",
      "('vaishnavi akre', '7558686804', 'female', '7558686804', 'google pay', 1)\n",
      "submitting form\n",
      "('vaishnavi akre', '7558686804', 'female', '7558686804', 'google pay', 1)\n"
     ]
    }
   ],
   "source": [
    "from tkinter import*\n",
    "root=Tk()\n",
    "def getvals():\n",
    "    print(\"submitting form\")\n",
    "    print(f\"{namevalue.get(),phonevalue.get(),gendervalue.get(),emergencyvalue.get(),paymentmodevalue.get(),foodservicevalue.get()}\")\n",
    "    \n",
    "    with open(\"records.txts,\",\"a\")as f:\n",
    "        f.write(f\"{namevalue.get(),emergencyvalue.get(),paymentmodevalue.get(),paymentmodevalue.get(),foodservicevalue.get()}\\n\")\n",
    "        root.geometry(\"644x344\")\n",
    "        \n",
    "# Heading \n",
    "Label(root,text=\"Welcome to harry Travel\",font=\"comicsansms 13 bold \",pady=15).grid(row=0,column=3)\n",
    "\n",
    "# Text for our form \n",
    "name=Label(root,text=\"Name\")\n",
    "phone=Label(root,text=\"phone\")\n",
    "gender=Label(root,text=\"gender\")\n",
    "emergency=Label(root,text=\"emergency contact\")\n",
    "paymentmode=Label(root,text=\"payment mode\")\n",
    "\n",
    "# pack text for our form\n",
    "name.grid(row=1,column=2)\n",
    "phone.grid(row=2,column=2)\n",
    "gender.grid(row=3,column=2)\n",
    "emergency.grid(row=4,column=2)\n",
    "paymentmode.grid(row=5,column=2)\n",
    "\n",
    "#Tkinter variable for storing entries\n",
    "\n",
    "namevalue=StringVar()\n",
    "phonevalue=StringVar()\n",
    "gendervalue=StringVar()\n",
    "emergencyvalue=StringVar()\n",
    "paymentmodevalue=StringVar()\n",
    "foodservicevalue=IntVar()\n",
    "\n",
    "# Entries for our form\n",
    "nameentry=Entry(root,textvariable=namevalue)\n",
    "phoneentry=Entry(root,textvariable=phonevalue)\n",
    "genderentry=Entry(root,textvariable=gendervalue)\n",
    "emergencyentry=Entry(root,textvariable=emergencyvalue)\n",
    "paymententry=Entry(root,textvariable=paymentmodevalue)\n",
    "\n",
    "#packing  the Entries\n",
    "nameentry.grid(row=1,column=3)\n",
    "phoneentry.grid(row=2,column=3)\n",
    "genderentry.grid(row=3,column=3)\n",
    "emergencyentry.grid(row=4,column=3)\n",
    "paymententry.grid(row=5,column=3)\n",
    "\n",
    "# checkbox and packing it\n",
    "foodservice=Checkbutton(text=\"want to prebook your seats?\",variable=foodservicevalue)\n",
    "foodservice.grid(row=6,column=3)\n",
    "\n",
    "# button and packing it and assigning it a command\n",
    "\n",
    "Button(text=\"submit to harry Travels\",command=getvals).grid(row=7,column=3)\n",
    "\n",
    "root.mainloop()\n",
    "    \n",
    "\n"
   ]
  },
  {
   "cell_type": "code",
   "execution_count": null,
   "id": "45257a1a",
   "metadata": {},
   "outputs": [],
   "source": [
    "# Handling Events in Tkinter"
   ]
  },
  {
   "cell_type": "code",
   "execution_count": null,
   "id": "78a0c6e7",
   "metadata": {},
   "outputs": [
    {
     "name": "stdout",
     "output_type": "stream",
     "text": [
      "You click on the button at 43,/8\n",
      "You click on the button at 43,/8\n",
      "You click on the button at 66,/13\n",
      "You click on the button at 46,/16\n",
      "You click on the button at 46,/16\n",
      "You click on the button at 46,/16\n"
     ]
    }
   ],
   "source": [
    "from tkinter import*\n",
    "\n",
    "def harry(event):\n",
    "    print(f\"You click on the button at {event.x},/{event.y}\")\n",
    "    \n",
    "root=Tk()\n",
    "root.title(\"Events in Tkinter\")\n",
    "root.geometry(\"644x334\")\n",
    "\n",
    "widget= Button(root,text =\"click me please\")\n",
    "widget.pack()\n",
    "\n",
    "widget.bind('<Button-1>',harry)\n",
    "widget.bind('<Double-1>',quit)\n",
    "root.mainloop()\n",
    "\n"
   ]
  },
  {
   "cell_type": "code",
   "execution_count": null,
   "id": "d0e718d6",
   "metadata": {},
   "outputs": [],
   "source": [
    "# Menu and Submenus "
   ]
  },
  {
   "cell_type": "code",
   "execution_count": 13,
   "id": "1c6e81f2",
   "metadata": {},
   "outputs": [],
   "source": [
    "from tkinter import *\n",
    "root=Tk()\n",
    "root.geometry(\"633x343\")\n",
    "root.title(\"pycharm\")\n",
    "\n",
    "def myfunc():\n",
    "    print(\"vaishnavi is good\")\n",
    "mainmenu = Menu(root)\n",
    "\n",
    "m1=Menu(mainmenu,tearoff=0)\n",
    "m1.add_command(label=\"New project\",command=myfunc)\n",
    "m1.add_command(label=\"save \",command=myfunc)\n",
    "m1.add_separator()\n",
    "m1.add_command(label=\"save as\",command=myfunc)\n",
    "m1.add_command(label=\"print\",command=myfunc)\n",
    "root.config(menu=mainmenu)\n",
    "mainmenu.add_cascade(label=\"File\",menu=m1)\n",
    "\n",
    "m2=Menu(mainmenu,tearoff=0)\n",
    "m2.add_command(label=\"cut\",command=myfunc)\n",
    "m2.add_command(label=\"copy \",command=myfunc)\n",
    "m2.add_separator()\n",
    "m2.add_command(label=\"paste\",command=myfunc)\n",
    "m2.add_command(label=\"find\",command=myfunc)\n",
    "root.config(menu=mainmenu)\n",
    "mainmenu.add_cascade(label=\"Edit\",menu=m2)\n",
    "\n",
    "root.mainloop()"
   ]
  },
  {
   "cell_type": "code",
   "execution_count": null,
   "id": "6595eb2b",
   "metadata": {},
   "outputs": [],
   "source": [
    "# Message box "
   ]
  },
  {
   "cell_type": "code",
   "execution_count": 18,
   "id": "ef22acf0",
   "metadata": {},
   "outputs": [],
   "source": [
    "from tkinter import*\n",
    "import tkinter.messagebox as tmsg\n",
    "root=Tk()\n",
    "root.geometry(\"733x566\")\n",
    "root.title(\"pycharm\")\n",
    "\n",
    "def myfunc():\n",
    "    print(\"soham is selfish\")\n",
    "    \n",
    "def help():\n",
    "    print(\"I will help u\")\n",
    "    tmsg.showinfo(\"Help\",\"sanvee will help with this gui\")\n",
    "    \n",
    "def rate():\n",
    "    print(\"rate us \")\n",
    "    value = tmsg.askquestion(\"was your experiences good?\",\"you used this gui ..was your experience good?\")\n",
    "    if value ==\"yes\":\n",
    "        msg = \"Great.Rate us on appstore please\"\n",
    "    else:\n",
    "        msg = \"Tell us what went wrong.We will can you soon \"\n",
    "    tmsg.showinfo(\"Experience\",msg)\n",
    "def divya():\n",
    "    ans = tmsg .askretrycancel(\"divya se dosti kar lo\",\"sorry divya nhi banegi apki dost\")\n",
    "    if ans:\n",
    "        print(\"Retry karne bhi kuch nhi hoga\")\n",
    "        \n",
    "    else:\n",
    "        print(\"bahut badiya bhai\")\n",
    "            \n",
    "mainmenu = Menu(root) \n",
    "\n",
    "m1 = Menu(mainmenu,tearoff=0)\n",
    "m1.add_command(label=\"New project\",command=myfunc)\n",
    "m1.add_command(label=\"Save\",command=myfunc)\n",
    "m1.add_separator()\n",
    "m1.add_command(label=\"save as\",command=myfunc)\n",
    "m1.add_command(label=\"print\",command=myfunc)\n",
    "root.config(menu=mainmenu)\n",
    "mainmenu.add_cascade(label=\"File\",menu=m1)\n",
    "\n",
    "\n",
    "\n",
    "m2 = Menu(mainmenu,tearoff=0)\n",
    "m2.add_command(label=\"cut\",command=myfunc)\n",
    "m2.add_command(label=\"copy\",command=myfunc)\n",
    "m2.add_separator()\n",
    "m2.add_command(label=\"paste\",command=myfunc)\n",
    "m2.add_command(label=\"find\",command=myfunc)\n",
    "root.config(menu=mainmenu)\n",
    "mainmenu.add_cascade(label=\"Edit\",menu=m2)\n",
    "\n",
    "\n",
    "m3 = Menu(mainmenu,tearoff=0)\n",
    "m3.add_command(label=\"Help\",command=myfunc)\n",
    "m3.add_command(label=\"Rate us\",command=myfunc)\n",
    "m3.add_separator()\n",
    "m3.add_command(label=\"Befriend\",command=myfunc)\n",
    "mainmenu.add_cascade(label=\"Help\",menu=m3)\n",
    "root.config(menu=mainmenu)\n",
    "root.mainloop()"
   ]
  },
  {
   "cell_type": "code",
   "execution_count": 19,
   "id": "b780e122",
   "metadata": {},
   "outputs": [],
   "source": [
    "from tkinter import *\n",
    "\n",
    "def add():\n",
    "    global i\n",
    "    lbx.insert(ACTIVE,f\"{i}\")\n",
    "    i+=1\n",
    "    \n",
    "i=0\n",
    "root = Tk()\n",
    "root.geometry(\"455x233\")\n",
    "root.title(\"Listbox tutorial\")\n",
    "\n",
    "lbx=Listbox(root)\n",
    "lbx.pack()\n",
    "lbx.insert(END ,\"First item of our listbox\")\n",
    "\n",
    "Button(root,text=\"Add item\",command=add).pack()\n",
    "\n",
    "root.mainloop()\n",
    "\n",
    "\n"
   ]
  },
  {
   "cell_type": "code",
   "execution_count": null,
   "id": "ddeb8a0b",
   "metadata": {},
   "outputs": [],
   "source": [
    "# Scrollbar :"
   ]
  },
  {
   "cell_type": "code",
   "execution_count": 6,
   "id": "f0602db4",
   "metadata": {},
   "outputs": [],
   "source": [
    "from tkinter import*\n",
    "root = Tk()\n",
    "root.geometry(\"455x233\")\n",
    "root.title(\"scrollbar tutorial\")\n",
    "scrollbar=Scrollbar(root)\n",
    "scrollbar.pack(side=RIGHT,fill=Y)\n",
    "\n",
    "listbox=Listbox(root,yscrollcommand=scrollbar.set)\n",
    "for i in range(344):\n",
    "     listbox.insert(END,f\"item{i}\")  \n",
    "listbox.pack(fill='both',padx=22)\n",
    "scrollbar.config(command=listbox.yview)\n",
    "root.mainloop()   "
   ]
  },
  {
   "cell_type": "code",
   "execution_count": null,
   "id": "72d78932",
   "metadata": {},
   "outputs": [],
   "source": []
  }
 ],
 "metadata": {
  "kernelspec": {
   "display_name": "Python 3 (ipykernel)",
   "language": "python",
   "name": "python3"
  },
  "language_info": {
   "codemirror_mode": {
    "name": "ipython",
    "version": 3
   },
   "file_extension": ".py",
   "mimetype": "text/x-python",
   "name": "python",
   "nbconvert_exporter": "python",
   "pygments_lexer": "ipython3",
   "version": "3.9.7"
  }
 },
 "nbformat": 4,
 "nbformat_minor": 5
}
